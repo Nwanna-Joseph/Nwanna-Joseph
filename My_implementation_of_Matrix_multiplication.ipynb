{
  "nbformat": 4,
  "nbformat_minor": 0,
  "metadata": {
    "colab": {
      "name": "My implementation of Matrix multiplication.ipynb",
      "provenance": [],
      "authorship_tag": "ABX9TyNaNXXI3B4hwKGhUSBWsea+",
      "include_colab_link": true
    },
    "kernelspec": {
      "name": "python3",
      "display_name": "Python 3"
    },
    "language_info": {
      "name": "python"
    }
  },
  "cells": [
    {
      "cell_type": "markdown",
      "metadata": {
        "id": "view-in-github",
        "colab_type": "text"
      },
      "source": [
        "<a href=\"https://colab.research.google.com/github/Nwanna-Joseph/Nwanna-Joseph/blob/main/My_implementation_of_Matrix_multiplication.ipynb\" target=\"_parent\"><img src=\"https://colab.research.google.com/assets/colab-badge.svg\" alt=\"Open In Colab\"/></a>"
      ]
    },
    {
      "cell_type": "code",
      "execution_count": 1,
      "metadata": {
        "colab": {
          "base_uri": "https://localhost:8080/"
        },
        "id": "VVTcKoLjJsFR",
        "outputId": "9fbef5a8-9e72-446c-a930-c644aba2dfb9"
      },
      "outputs": [
        {
          "output_type": "stream",
          "name": "stdout",
          "text": [
            "[[6, 12], [21, 36]]\n",
            "Congrats, It is working\n"
          ]
        }
      ],
      "source": [
        "def MatMul(A, B):\n",
        "  ##### WRITE YOUR CODE HERE #####\n",
        "\n",
        "  num_A_rows = len(A)\n",
        "  num_B_rows = len(B)\n",
        "  if(num_A_rows == 0 or num_B_rows==0):\n",
        "    print(\"Invalid rows. Please validate\")\n",
        "    return\n",
        "  \n",
        "  num_A_col = len(A[0])\n",
        "  num_B_col = len(B[0])\n",
        "\n",
        "  if(num_A_col != num_B_rows):\n",
        "    assert(\"Invalid col * rows. Please validate\")\n",
        "\n",
        "  total_moves = (num_A_col * num_A_rows) * num_B_col \n",
        "  # total_moves = num_A_rows * (num_B_col * num_B_rows)\n",
        "\n",
        "  # ((num_A_col * num_A_rows) * num_B_col) == (num_A_rows * (num_B_col * num_B_rows)) => true\n",
        "\n",
        "  # print(total_moves)\n",
        "  num_col = total_moves // num_A_rows\n",
        "\n",
        "  new_row = []\n",
        "  matrix = []\n",
        "  row = []\n",
        "  holder = 0\n",
        "\n",
        "  for a in range(total_moves):\n",
        "    \n",
        "    # if a%num_A_col == 0 , new cell\n",
        "    # if a%num_A_col == 0 and a%num_B_col == 0 , new row\n",
        "    a_sub = a%num_A_col\n",
        "    b_sub = (a%num_col)//num_B_rows\n",
        "\n",
        "\n",
        "   \n",
        "    if( a_sub == 0):\n",
        "      if(b_sub == 0):\n",
        "        row=[]\n",
        "        # print(\"new row\")\n",
        "      # print(\"new cell\")\n",
        "      holder = 0\n",
        "\n",
        "    holder += A[(a//num_col)][a_sub] * B[(a%num_B_rows)][b_sub]\n",
        "\n",
        "    # print(((a//num_col)), a_sub ,'|',(a%num_B_rows), b_sub )\n",
        "\n",
        "    if((a%num_B_rows) == num_B_rows-1):\n",
        "      # print(holder)\n",
        "      row.append(holder)\n",
        "      # print(\"add holder and cell\")\n",
        "      if( b_sub == num_B_col-1):\n",
        "        matrix.append(row)\n",
        "        # print(\"add row\")\n",
        "      \n",
        "  return matrix\n",
        "  #### END CODE ####\n",
        "\n",
        "\n",
        "A = [ [1,2,3],[4,5,6] ]\n",
        "B = [ [4,5], [1,2], [0, 1] ] \n",
        "print(MatMul(A, B))\n",
        "assert MatMul(A, B)==[[6, 12], [21, 36]], \"Your implementation is not correct\"\n",
        "print(\"Congrats, It is working\")"
      ]
    }
  ]
}